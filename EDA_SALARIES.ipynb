{
 "cells": [
  {
   "cell_type": "code",
   "execution_count": 1,
   "id": "9717a84c",
   "metadata": {},
   "outputs": [],
   "source": [
    "# Below analysis focuses on Salaries in Data Science field\n",
    "\n",
    "# It is based on responses from over 600 tested data-based professionals from different countries\n",
    "# Through this analysis I wanted to show:\n",
    "# - who are the respondents - what is their job title, what seniority are they, what is the size of company they work in\n",
    "# - what are the salaries - how the distribution looks like, how they changed through years, how they depend on seniority,\n",
    "#   is there a difference in salaries between remote and stationary employees?\n",
    "#   In the last part I wanted to check if there are correlations between numerical data\n",
    "\n",
    "# In the end of analysis I have added summary of all results of this analysis"
   ]
  },
  {
   "cell_type": "code",
   "execution_count": 2,
   "id": "605699a0",
   "metadata": {},
   "outputs": [],
   "source": [
    "# importing necessary libraries"
   ]
  },
  {
   "cell_type": "code",
   "execution_count": 3,
   "id": "4bf8dcfe",
   "metadata": {},
   "outputs": [],
   "source": [
    "import warnings\n",
    "warnings.simplefilter(action='ignore', category=FutureWarning)"
   ]
  },
  {
   "cell_type": "code",
   "execution_count": 4,
   "id": "1751b55a",
   "metadata": {},
   "outputs": [],
   "source": [
    "import numpy as np\n",
    "import pandas as pd\n",
    "import matplotlib.pyplot as plt\n",
    "%matplotlib inline\n",
    "import seaborn as sns"
   ]
  },
  {
   "cell_type": "code",
   "execution_count": 5,
   "id": "aa3e7aa5",
   "metadata": {},
   "outputs": [],
   "source": [
    "from scipy.stats import iqr\n",
    "import math"
   ]
  },
  {
   "cell_type": "code",
   "execution_count": 6,
   "id": "d214b286",
   "metadata": {},
   "outputs": [],
   "source": [
    "# importing the csv file"
   ]
  },
  {
   "cell_type": "code",
   "execution_count": 7,
   "id": "9896004b",
   "metadata": {},
   "outputs": [],
   "source": [
    "df = pd.read_csv(\"ds_salaries.csv\")"
   ]
  },
  {
   "cell_type": "code",
   "execution_count": 8,
   "id": "1df79f3e",
   "metadata": {},
   "outputs": [],
   "source": [
    "# Let's check the structure"
   ]
  },
  {
   "cell_type": "code",
   "execution_count": 9,
   "id": "d30ec493",
   "metadata": {},
   "outputs": [
    {
     "data": {
      "text/html": [
       "<div>\n",
       "<style scoped>\n",
       "    .dataframe tbody tr th:only-of-type {\n",
       "        vertical-align: middle;\n",
       "    }\n",
       "\n",
       "    .dataframe tbody tr th {\n",
       "        vertical-align: top;\n",
       "    }\n",
       "\n",
       "    .dataframe thead th {\n",
       "        text-align: right;\n",
       "    }\n",
       "</style>\n",
       "<table border=\"1\" class=\"dataframe\">\n",
       "  <thead>\n",
       "    <tr style=\"text-align: right;\">\n",
       "      <th></th>\n",
       "      <th>Unnamed: 0</th>\n",
       "      <th>work_year</th>\n",
       "      <th>experience_level</th>\n",
       "      <th>employment_type</th>\n",
       "      <th>job_title</th>\n",
       "      <th>salary</th>\n",
       "      <th>salary_currency</th>\n",
       "      <th>salary_in_usd</th>\n",
       "      <th>employee_residence</th>\n",
       "      <th>remote_ratio</th>\n",
       "      <th>company_location</th>\n",
       "      <th>company_size</th>\n",
       "    </tr>\n",
       "  </thead>\n",
       "  <tbody>\n",
       "    <tr>\n",
       "      <th>0</th>\n",
       "      <td>0</td>\n",
       "      <td>2020</td>\n",
       "      <td>MI</td>\n",
       "      <td>FT</td>\n",
       "      <td>Data Scientist</td>\n",
       "      <td>70000</td>\n",
       "      <td>EUR</td>\n",
       "      <td>79833</td>\n",
       "      <td>DE</td>\n",
       "      <td>0</td>\n",
       "      <td>DE</td>\n",
       "      <td>L</td>\n",
       "    </tr>\n",
       "    <tr>\n",
       "      <th>1</th>\n",
       "      <td>1</td>\n",
       "      <td>2020</td>\n",
       "      <td>SE</td>\n",
       "      <td>FT</td>\n",
       "      <td>Machine Learning Scientist</td>\n",
       "      <td>260000</td>\n",
       "      <td>USD</td>\n",
       "      <td>260000</td>\n",
       "      <td>JP</td>\n",
       "      <td>0</td>\n",
       "      <td>JP</td>\n",
       "      <td>S</td>\n",
       "    </tr>\n",
       "    <tr>\n",
       "      <th>2</th>\n",
       "      <td>2</td>\n",
       "      <td>2020</td>\n",
       "      <td>SE</td>\n",
       "      <td>FT</td>\n",
       "      <td>Big Data Engineer</td>\n",
       "      <td>85000</td>\n",
       "      <td>GBP</td>\n",
       "      <td>109024</td>\n",
       "      <td>GB</td>\n",
       "      <td>50</td>\n",
       "      <td>GB</td>\n",
       "      <td>M</td>\n",
       "    </tr>\n",
       "    <tr>\n",
       "      <th>3</th>\n",
       "      <td>3</td>\n",
       "      <td>2020</td>\n",
       "      <td>MI</td>\n",
       "      <td>FT</td>\n",
       "      <td>Product Data Analyst</td>\n",
       "      <td>20000</td>\n",
       "      <td>USD</td>\n",
       "      <td>20000</td>\n",
       "      <td>HN</td>\n",
       "      <td>0</td>\n",
       "      <td>HN</td>\n",
       "      <td>S</td>\n",
       "    </tr>\n",
       "    <tr>\n",
       "      <th>4</th>\n",
       "      <td>4</td>\n",
       "      <td>2020</td>\n",
       "      <td>SE</td>\n",
       "      <td>FT</td>\n",
       "      <td>Machine Learning Engineer</td>\n",
       "      <td>150000</td>\n",
       "      <td>USD</td>\n",
       "      <td>150000</td>\n",
       "      <td>US</td>\n",
       "      <td>50</td>\n",
       "      <td>US</td>\n",
       "      <td>L</td>\n",
       "    </tr>\n",
       "  </tbody>\n",
       "</table>\n",
       "</div>"
      ],
      "text/plain": [
       "   Unnamed: 0  work_year experience_level employment_type  \\\n",
       "0           0       2020               MI              FT   \n",
       "1           1       2020               SE              FT   \n",
       "2           2       2020               SE              FT   \n",
       "3           3       2020               MI              FT   \n",
       "4           4       2020               SE              FT   \n",
       "\n",
       "                    job_title  salary salary_currency  salary_in_usd  \\\n",
       "0              Data Scientist   70000             EUR          79833   \n",
       "1  Machine Learning Scientist  260000             USD         260000   \n",
       "2           Big Data Engineer   85000             GBP         109024   \n",
       "3        Product Data Analyst   20000             USD          20000   \n",
       "4   Machine Learning Engineer  150000             USD         150000   \n",
       "\n",
       "  employee_residence  remote_ratio company_location company_size  \n",
       "0                 DE             0               DE            L  \n",
       "1                 JP             0               JP            S  \n",
       "2                 GB            50               GB            M  \n",
       "3                 HN             0               HN            S  \n",
       "4                 US            50               US            L  "
      ]
     },
     "execution_count": 9,
     "metadata": {},
     "output_type": "execute_result"
    }
   ],
   "source": [
    "df.head()"
   ]
  },
  {
   "cell_type": "code",
   "execution_count": 10,
   "id": "ac8fc49e",
   "metadata": {},
   "outputs": [],
   "source": [
    "# and some info on the data"
   ]
  },
  {
   "cell_type": "code",
   "execution_count": 11,
   "id": "51280881",
   "metadata": {},
   "outputs": [
    {
     "name": "stdout",
     "output_type": "stream",
     "text": [
      "<class 'pandas.core.frame.DataFrame'>\n",
      "RangeIndex: 607 entries, 0 to 606\n",
      "Data columns (total 12 columns):\n",
      " #   Column              Non-Null Count  Dtype \n",
      "---  ------              --------------  ----- \n",
      " 0   Unnamed: 0          607 non-null    int64 \n",
      " 1   work_year           607 non-null    int64 \n",
      " 2   experience_level    607 non-null    object\n",
      " 3   employment_type     607 non-null    object\n",
      " 4   job_title           607 non-null    object\n",
      " 5   salary              607 non-null    int64 \n",
      " 6   salary_currency     607 non-null    object\n",
      " 7   salary_in_usd       607 non-null    int64 \n",
      " 8   employee_residence  607 non-null    object\n",
      " 9   remote_ratio        607 non-null    int64 \n",
      " 10  company_location    607 non-null    object\n",
      " 11  company_size        607 non-null    object\n",
      "dtypes: int64(5), object(7)\n",
      "memory usage: 57.0+ KB\n"
     ]
    }
   ],
   "source": [
    "df.info()"
   ]
  },
  {
   "cell_type": "code",
   "execution_count": 12,
   "id": "6df1e128",
   "metadata": {},
   "outputs": [],
   "source": [
    "# checking for null values"
   ]
  },
  {
   "cell_type": "code",
   "execution_count": 13,
   "id": "c65bbae7",
   "metadata": {},
   "outputs": [
    {
     "data": {
      "text/plain": [
       "Unnamed: 0            0\n",
       "work_year             0\n",
       "experience_level      0\n",
       "employment_type       0\n",
       "job_title             0\n",
       "salary                0\n",
       "salary_currency       0\n",
       "salary_in_usd         0\n",
       "employee_residence    0\n",
       "remote_ratio          0\n",
       "company_location      0\n",
       "company_size          0\n",
       "dtype: int64"
      ]
     },
     "execution_count": 13,
     "metadata": {},
     "output_type": "execute_result"
    }
   ],
   "source": [
    "df.isnull().sum()"
   ]
  },
  {
   "cell_type": "code",
   "execution_count": 14,
   "id": "5ce97c20",
   "metadata": {},
   "outputs": [],
   "source": [
    "# Dropping unnecessary column "
   ]
  },
  {
   "cell_type": "code",
   "execution_count": 15,
   "id": "398ce47c",
   "metadata": {},
   "outputs": [],
   "source": [
    "df.drop(\"Unnamed: 0\", axis=1, inplace=True)"
   ]
  },
  {
   "cell_type": "code",
   "execution_count": 16,
   "id": "7c1ea7eb",
   "metadata": {},
   "outputs": [
    {
     "data": {
      "text/html": [
       "<div>\n",
       "<style scoped>\n",
       "    .dataframe tbody tr th:only-of-type {\n",
       "        vertical-align: middle;\n",
       "    }\n",
       "\n",
       "    .dataframe tbody tr th {\n",
       "        vertical-align: top;\n",
       "    }\n",
       "\n",
       "    .dataframe thead th {\n",
       "        text-align: right;\n",
       "    }\n",
       "</style>\n",
       "<table border=\"1\" class=\"dataframe\">\n",
       "  <thead>\n",
       "    <tr style=\"text-align: right;\">\n",
       "      <th></th>\n",
       "      <th>work_year</th>\n",
       "      <th>experience_level</th>\n",
       "      <th>employment_type</th>\n",
       "      <th>job_title</th>\n",
       "      <th>salary</th>\n",
       "      <th>salary_currency</th>\n",
       "      <th>salary_in_usd</th>\n",
       "      <th>employee_residence</th>\n",
       "      <th>remote_ratio</th>\n",
       "      <th>company_location</th>\n",
       "      <th>company_size</th>\n",
       "    </tr>\n",
       "  </thead>\n",
       "  <tbody>\n",
       "    <tr>\n",
       "      <th>0</th>\n",
       "      <td>2020</td>\n",
       "      <td>MI</td>\n",
       "      <td>FT</td>\n",
       "      <td>Data Scientist</td>\n",
       "      <td>70000</td>\n",
       "      <td>EUR</td>\n",
       "      <td>79833</td>\n",
       "      <td>DE</td>\n",
       "      <td>0</td>\n",
       "      <td>DE</td>\n",
       "      <td>L</td>\n",
       "    </tr>\n",
       "    <tr>\n",
       "      <th>1</th>\n",
       "      <td>2020</td>\n",
       "      <td>SE</td>\n",
       "      <td>FT</td>\n",
       "      <td>Machine Learning Scientist</td>\n",
       "      <td>260000</td>\n",
       "      <td>USD</td>\n",
       "      <td>260000</td>\n",
       "      <td>JP</td>\n",
       "      <td>0</td>\n",
       "      <td>JP</td>\n",
       "      <td>S</td>\n",
       "    </tr>\n",
       "    <tr>\n",
       "      <th>2</th>\n",
       "      <td>2020</td>\n",
       "      <td>SE</td>\n",
       "      <td>FT</td>\n",
       "      <td>Big Data Engineer</td>\n",
       "      <td>85000</td>\n",
       "      <td>GBP</td>\n",
       "      <td>109024</td>\n",
       "      <td>GB</td>\n",
       "      <td>50</td>\n",
       "      <td>GB</td>\n",
       "      <td>M</td>\n",
       "    </tr>\n",
       "    <tr>\n",
       "      <th>3</th>\n",
       "      <td>2020</td>\n",
       "      <td>MI</td>\n",
       "      <td>FT</td>\n",
       "      <td>Product Data Analyst</td>\n",
       "      <td>20000</td>\n",
       "      <td>USD</td>\n",
       "      <td>20000</td>\n",
       "      <td>HN</td>\n",
       "      <td>0</td>\n",
       "      <td>HN</td>\n",
       "      <td>S</td>\n",
       "    </tr>\n",
       "    <tr>\n",
       "      <th>4</th>\n",
       "      <td>2020</td>\n",
       "      <td>SE</td>\n",
       "      <td>FT</td>\n",
       "      <td>Machine Learning Engineer</td>\n",
       "      <td>150000</td>\n",
       "      <td>USD</td>\n",
       "      <td>150000</td>\n",
       "      <td>US</td>\n",
       "      <td>50</td>\n",
       "      <td>US</td>\n",
       "      <td>L</td>\n",
       "    </tr>\n",
       "  </tbody>\n",
       "</table>\n",
       "</div>"
      ],
      "text/plain": [
       "   work_year experience_level employment_type                   job_title  \\\n",
       "0       2020               MI              FT              Data Scientist   \n",
       "1       2020               SE              FT  Machine Learning Scientist   \n",
       "2       2020               SE              FT           Big Data Engineer   \n",
       "3       2020               MI              FT        Product Data Analyst   \n",
       "4       2020               SE              FT   Machine Learning Engineer   \n",
       "\n",
       "   salary salary_currency  salary_in_usd employee_residence  remote_ratio  \\\n",
       "0   70000             EUR          79833                 DE             0   \n",
       "1  260000             USD         260000                 JP             0   \n",
       "2   85000             GBP         109024                 GB            50   \n",
       "3   20000             USD          20000                 HN             0   \n",
       "4  150000             USD         150000                 US            50   \n",
       "\n",
       "  company_location company_size  \n",
       "0               DE            L  \n",
       "1               JP            S  \n",
       "2               GB            M  \n",
       "3               HN            S  \n",
       "4               US            L  "
      ]
     },
     "execution_count": 16,
     "metadata": {},
     "output_type": "execute_result"
    }
   ],
   "source": [
    "df.head()"
   ]
  },
  {
   "cell_type": "code",
   "execution_count": 17,
   "id": "cfdfbd00",
   "metadata": {},
   "outputs": [],
   "source": [
    "# Let's start with answering who are our respondents"
   ]
  },
  {
   "cell_type": "code",
   "execution_count": 18,
   "id": "7e5e6c92",
   "metadata": {},
   "outputs": [],
   "source": [
    "# Let's check distribution of job titles"
   ]
  },
  {
   "cell_type": "code",
   "execution_count": 19,
   "id": "54d00dac",
   "metadata": {},
   "outputs": [
    {
     "data": {
      "text/plain": [
       "50"
      ]
     },
     "execution_count": 19,
     "metadata": {},
     "output_type": "execute_result"
    }
   ],
   "source": [
    "df[\"job_title\"].nunique()"
   ]
  },
  {
   "cell_type": "code",
   "execution_count": 20,
   "id": "f254aba6",
   "metadata": {},
   "outputs": [],
   "source": [
    "# As there are 50 different job titles we will check only top 10"
   ]
  },
  {
   "cell_type": "code",
   "execution_count": 21,
   "id": "be16757b",
   "metadata": {},
   "outputs": [
    {
     "data": {
      "text/plain": [
       "<AxesSubplot:title={'center':'10 most common job titles'}>"
      ]
     },
     "execution_count": 21,
     "metadata": {},
     "output_type": "execute_result"
    },
    {
     "data": {
      "image/png": "[encoded data removed]",
      "text/plain": [
       "<Figure size 1080x360 with 1 Axes>"
      ]
     },
     "metadata": {
      "needs_background": "light"
     },
     "output_type": "display_data"
    }
   ],
   "source": [
    "df[\"job_title\"].value_counts().head(10).plot(\n",
    "    kind=\"bar\",\n",
    "    figsize=(15,5),\n",
    "    color=sns.color_palette(\"tab10\"),\n",
    "    title=\"10 most common job titles\")"
   ]
  },
  {
   "cell_type": "code",
   "execution_count": 22,
   "id": "cf48bdfb",
   "metadata": {},
   "outputs": [],
   "source": [
    "#Let's discover seniority of the respondents"
   ]
  },
  {
   "cell_type": "code",
   "execution_count": 23,
   "id": "620d9c6d",
   "metadata": {},
   "outputs": [
    {
     "data": {
      "text/plain": [
       "<AxesSubplot:title={'center':'Seniority level among respondents'}>"
      ]
     },
     "execution_count": 23,
     "metadata": {},
     "output_type": "execute_result"
    },
    {
     "data": {
      "image/png": "[encoded data removed]",
      "text/plain": [
       "<Figure size 1080x504 with 2 Axes>"
      ]
     },
     "metadata": {
      "needs_background": "light"
     },
     "output_type": "display_data"
    }
   ],
   "source": [
    "plt.subplot(1, 2 ,1)\n",
    "df[\"experience_level\"].value_counts().plot(\n",
    "    kind=\"pie\",\n",
    "    figsize=(15,7),\n",
    "    title=\"Seniority level among respondents\",\n",
    "    legend=1,\n",
    "    autopct='%1.1f%%',\n",
    "    fontsize=13\n",
    ")\n",
    "plt.subplot(1, 2, 2)\n",
    "df[\"experience_level\"].value_counts().plot(\n",
    "    kind=\"bar\",\n",
    "    figsize=(15,7),\n",
    "    title=\"Seniority level among respondents\",\n",
    "    legend=1,\n",
    "    fontsize=13)"
   ]
  },
  {
   "cell_type": "code",
   "execution_count": 24,
   "id": "0f26cc4d",
   "metadata": {},
   "outputs": [],
   "source": [
    "# Below we can see quick graph showing number of respondents and their employment type"
   ]
  },
  {
   "cell_type": "code",
   "execution_count": 25,
   "id": "70610560",
   "metadata": {},
   "outputs": [
    {
     "data": {
      "text/plain": [
       "<AxesSubplot:title={'center':'Number of respondents per employment type'}>"
      ]
     },
     "execution_count": 25,
     "metadata": {},
     "output_type": "execute_result"
    },
    {
     "data": {
      "image/png": "[encoded data removed]",
      "text/plain": [
       "<Figure size 1080x360 with 2 Axes>"
      ]
     },
     "metadata": {
      "needs_background": "light"
     },
     "output_type": "display_data"
    }
   ],
   "source": [
    "plt.figure(figsize=(15,3))\n",
    "plt.subplot(1,2,1)\n",
    "df[\"work_year\"].value_counts().plot(\n",
    "    kind=\"bar\",\n",
    "    figsize=(15,5),\n",
    "    color=sns.color_palette(\"tab10\"),\n",
    "    title=\"Number of respondents per year\")\n",
    "\n",
    "plt.subplot(1,2,2)\n",
    "df[\"employment_type\"].value_counts().plot(\n",
    "    kind=\"bar\", title=\"Number of respondents per employment type\")"
   ]
  },
  {
   "cell_type": "code",
   "execution_count": 26,
   "id": "daeca88f",
   "metadata": {},
   "outputs": [],
   "source": [
    "# And let's see what company sizes are most common"
   ]
  },
  {
   "cell_type": "code",
   "execution_count": 27,
   "id": "8a5d5e86",
   "metadata": {},
   "outputs": [
    {
     "data": {
      "text/plain": [
       "<AxesSubplot:ylabel='company_size'>"
      ]
     },
     "execution_count": 27,
     "metadata": {},
     "output_type": "execute_result"
    },
    {
     "data": {
      "image/png": "[encoded data removed]",
      "text/plain": [
       "<Figure size 1440x576 with 1 Axes>"
      ]
     },
     "metadata": {},
     "output_type": "display_data"
    }
   ],
   "source": [
    "plt.figure(figsize=(20,8))\n",
    "df[\"company_size\"].value_counts().plot(\n",
    "    kind=\"pie\",\n",
    "    figsize=(20,8),\n",
    "    legend=1,\n",
    "    autopct='%1.1f%%',\n",
    "    fontsize=13)"
   ]
  },
  {
   "cell_type": "code",
   "execution_count": 28,
   "id": "cca97876",
   "metadata": {},
   "outputs": [],
   "source": [
    "# We know seniority, we know salaries, let's see where top 10 of our tested are coming from"
   ]
  },
  {
   "cell_type": "code",
   "execution_count": 29,
   "id": "fbc73653",
   "metadata": {},
   "outputs": [
    {
     "data": {
      "text/plain": [
       "<AxesSubplot:title={'center':\"Top 10 respondents' countries\"}, ylabel='company_location'>"
      ]
     },
     "execution_count": 29,
     "metadata": {},
     "output_type": "execute_result"
    },
    {
     "data": {
      "image/png": "[encoded data removed]",
      "text/plain": [
       "<Figure size 1152x432 with 2 Axes>"
      ]
     },
     "metadata": {
      "needs_background": "light"
     },
     "output_type": "display_data"
    }
   ],
   "source": [
    "plt.figure(figsize=(16,6))\n",
    "plt.subplot(1,2,1)\n",
    "df[\"company_location\"].value_counts().head(10).plot(\n",
    "    kind=\"bar\", \n",
    "    color=sns.color_palette(\"tab10\"),\n",
    "    title=\"Top 10 respondents' countries\")\n",
    "plt.subplot(1,2,2)\n",
    "df[\"company_location\"].value_counts().head(10).plot(\n",
    "    kind=\"pie\",\n",
    "    title=\"Top 10 respondents' countries\",\n",
    "    autopct='%.0f%%')"
   ]
  },
  {
   "cell_type": "code",
   "execution_count": 30,
   "id": "fa36b4e6",
   "metadata": {},
   "outputs": [],
   "source": [
    "# SALARY ANALYSIS"
   ]
  },
  {
   "cell_type": "code",
   "execution_count": 31,
   "id": "a1a8d6ef",
   "metadata": {},
   "outputs": [],
   "source": [
    "# Let's have a look at most important numerical values in this distribution"
   ]
  },
  {
   "cell_type": "code",
   "execution_count": 32,
   "id": "7dc51256",
   "metadata": {},
   "outputs": [
    {
     "data": {
      "text/html": [
       "<div>\n",
       "<style scoped>\n",
       "    .dataframe tbody tr th:only-of-type {\n",
       "        vertical-align: middle;\n",
       "    }\n",
       "\n",
       "    .dataframe tbody tr th {\n",
       "        vertical-align: top;\n",
       "    }\n",
       "\n",
       "    .dataframe thead th {\n",
       "        text-align: right;\n",
       "    }\n",
       "</style>\n",
       "<table border=\"1\" class=\"dataframe\">\n",
       "  <thead>\n",
       "    <tr style=\"text-align: right;\">\n",
       "      <th></th>\n",
       "      <th>work_year</th>\n",
       "      <th>salary</th>\n",
       "      <th>salary_in_usd</th>\n",
       "      <th>remote_ratio</th>\n",
       "    </tr>\n",
       "  </thead>\n",
       "  <tbody>\n",
       "    <tr>\n",
       "      <th>count</th>\n",
       "      <td>607.000000</td>\n",
       "      <td>6.070000e+02</td>\n",
       "      <td>607.000000</td>\n",
       "      <td>607.00000</td>\n",
       "    </tr>\n",
       "    <tr>\n",
       "      <th>mean</th>\n",
       "      <td>2021.405272</td>\n",
       "      <td>3.240001e+05</td>\n",
       "      <td>112297.869852</td>\n",
       "      <td>70.92257</td>\n",
       "    </tr>\n",
       "    <tr>\n",
       "      <th>std</th>\n",
       "      <td>0.692133</td>\n",
       "      <td>1.544357e+06</td>\n",
       "      <td>70957.259411</td>\n",
       "      <td>40.70913</td>\n",
       "    </tr>\n",
       "    <tr>\n",
       "      <th>min</th>\n",
       "      <td>2020.000000</td>\n",
       "      <td>4.000000e+03</td>\n",
       "      <td>2859.000000</td>\n",
       "      <td>0.00000</td>\n",
       "    </tr>\n",
       "    <tr>\n",
       "      <th>25%</th>\n",
       "      <td>2021.000000</td>\n",
       "      <td>7.000000e+04</td>\n",
       "      <td>62726.000000</td>\n",
       "      <td>50.00000</td>\n",
       "    </tr>\n",
       "    <tr>\n",
       "      <th>50%</th>\n",
       "      <td>2022.000000</td>\n",
       "      <td>1.150000e+05</td>\n",
       "      <td>101570.000000</td>\n",
       "      <td>100.00000</td>\n",
       "    </tr>\n",
       "    <tr>\n",
       "      <th>75%</th>\n",
       "      <td>2022.000000</td>\n",
       "      <td>1.650000e+05</td>\n",
       "      <td>150000.000000</td>\n",
       "      <td>100.00000</td>\n",
       "    </tr>\n",
       "    <tr>\n",
       "      <th>max</th>\n",
       "      <td>2022.000000</td>\n",
       "      <td>3.040000e+07</td>\n",
       "      <td>600000.000000</td>\n",
       "      <td>100.00000</td>\n",
       "    </tr>\n",
       "  </tbody>\n",
       "</table>\n",
       "</div>"
      ],
      "text/plain": [
       "         work_year        salary  salary_in_usd  remote_ratio\n",
       "count   607.000000  6.070000e+02     607.000000     607.00000\n",
       "mean   2021.405272  3.240001e+05  112297.869852      70.92257\n",
       "std       0.692133  1.544357e+06   70957.259411      40.70913\n",
       "min    2020.000000  4.000000e+03    2859.000000       0.00000\n",
       "25%    2021.000000  7.000000e+04   62726.000000      50.00000\n",
       "50%    2022.000000  1.150000e+05  101570.000000     100.00000\n",
       "75%    2022.000000  1.650000e+05  150000.000000     100.00000\n",
       "max    2022.000000  3.040000e+07  600000.000000     100.00000"
      ]
     },
     "execution_count": 32,
     "metadata": {},
     "output_type": "execute_result"
    }
   ],
   "source": [
    "df.describe()"
   ]
  },
  {
   "cell_type": "code",
   "execution_count": 33,
   "id": "fb6dd166",
   "metadata": {},
   "outputs": [],
   "source": [
    "# Let's see how salary distribution looks like\n",
    "# As we can see below, it's positively skewed distribution with few outliers. We will have a deeper look into it further\n",
    "# in the analysis"
   ]
  },
  {
   "cell_type": "code",
   "execution_count": 34,
   "id": "4622780f",
   "metadata": {},
   "outputs": [
    {
     "data": {
      "text/plain": [
       "<AxesSubplot:xlabel='salary_in_usd', ylabel='Count'>"
      ]
     },
     "execution_count": 34,
     "metadata": {},
     "output_type": "execute_result"
    },
    {
     "data": {
      "image/png": "[encoded data removed]",
      "text/plain": [
       "<Figure size 1080x288 with 1 Axes>"
      ]
     },
     "metadata": {
      "needs_background": "light"
     },
     "output_type": "display_data"
    }
   ],
   "source": [
    "plt.figure(figsize=(15,4))\n",
    "sns.histplot(df[\"salary_in_usd\"], palette=\"light:m_r\", bins=100)"
   ]
  },
  {
   "cell_type": "code",
   "execution_count": 35,
   "id": "6fbb593f",
   "metadata": {},
   "outputs": [
    {
     "data": {
      "text/plain": [
       "112297.86985172982"
      ]
     },
     "execution_count": 35,
     "metadata": {},
     "output_type": "execute_result"
    }
   ],
   "source": [
    "# Mean value for salaries in USD including outliers\n",
    "df[\"salary_in_usd\"].mean()"
   ]
  },
  {
   "cell_type": "code",
   "execution_count": 36,
   "id": "a5bf604a",
   "metadata": {},
   "outputs": [],
   "source": [
    "# as we can see, there are few very distant values in USD salary - let's take a closer look into who's messing with our data"
   ]
  },
  {
   "cell_type": "code",
   "execution_count": 37,
   "id": "bd0d1954",
   "metadata": {},
   "outputs": [
    {
     "data": {
      "text/html": [
       "<div>\n",
       "<style scoped>\n",
       "    .dataframe tbody tr th:only-of-type {\n",
       "        vertical-align: middle;\n",
       "    }\n",
       "\n",
       "    .dataframe tbody tr th {\n",
       "        vertical-align: top;\n",
       "    }\n",
       "\n",
       "    .dataframe thead th {\n",
       "        text-align: right;\n",
       "    }\n",
       "</style>\n",
       "<table border=\"1\" class=\"dataframe\">\n",
       "  <thead>\n",
       "    <tr style=\"text-align: right;\">\n",
       "      <th></th>\n",
       "      <th>work_year</th>\n",
       "      <th>experience_level</th>\n",
       "      <th>employment_type</th>\n",
       "      <th>job_title</th>\n",
       "      <th>salary</th>\n",
       "      <th>salary_currency</th>\n",
       "      <th>salary_in_usd</th>\n",
       "      <th>employee_residence</th>\n",
       "      <th>remote_ratio</th>\n",
       "      <th>company_location</th>\n",
       "      <th>company_size</th>\n",
       "    </tr>\n",
       "  </thead>\n",
       "  <tbody>\n",
       "    <tr>\n",
       "      <th>33</th>\n",
       "      <td>2020</td>\n",
       "      <td>MI</td>\n",
       "      <td>FT</td>\n",
       "      <td>Research Scientist</td>\n",
       "      <td>450000</td>\n",
       "      <td>USD</td>\n",
       "      <td>450000</td>\n",
       "      <td>US</td>\n",
       "      <td>0</td>\n",
       "      <td>US</td>\n",
       "      <td>M</td>\n",
       "    </tr>\n",
       "    <tr>\n",
       "      <th>63</th>\n",
       "      <td>2020</td>\n",
       "      <td>SE</td>\n",
       "      <td>FT</td>\n",
       "      <td>Data Scientist</td>\n",
       "      <td>412000</td>\n",
       "      <td>USD</td>\n",
       "      <td>412000</td>\n",
       "      <td>US</td>\n",
       "      <td>100</td>\n",
       "      <td>US</td>\n",
       "      <td>L</td>\n",
       "    </tr>\n",
       "    <tr>\n",
       "      <th>97</th>\n",
       "      <td>2021</td>\n",
       "      <td>MI</td>\n",
       "      <td>FT</td>\n",
       "      <td>Financial Data Analyst</td>\n",
       "      <td>450000</td>\n",
       "      <td>USD</td>\n",
       "      <td>450000</td>\n",
       "      <td>US</td>\n",
       "      <td>100</td>\n",
       "      <td>US</td>\n",
       "      <td>L</td>\n",
       "    </tr>\n",
       "    <tr>\n",
       "      <th>157</th>\n",
       "      <td>2021</td>\n",
       "      <td>MI</td>\n",
       "      <td>FT</td>\n",
       "      <td>Applied Machine Learning Scientist</td>\n",
       "      <td>423000</td>\n",
       "      <td>USD</td>\n",
       "      <td>423000</td>\n",
       "      <td>US</td>\n",
       "      <td>50</td>\n",
       "      <td>US</td>\n",
       "      <td>L</td>\n",
       "    </tr>\n",
       "    <tr>\n",
       "      <th>225</th>\n",
       "      <td>2021</td>\n",
       "      <td>EX</td>\n",
       "      <td>CT</td>\n",
       "      <td>Principal Data Scientist</td>\n",
       "      <td>416000</td>\n",
       "      <td>USD</td>\n",
       "      <td>416000</td>\n",
       "      <td>US</td>\n",
       "      <td>100</td>\n",
       "      <td>US</td>\n",
       "      <td>S</td>\n",
       "    </tr>\n",
       "    <tr>\n",
       "      <th>252</th>\n",
       "      <td>2021</td>\n",
       "      <td>EX</td>\n",
       "      <td>FT</td>\n",
       "      <td>Principal Data Engineer</td>\n",
       "      <td>600000</td>\n",
       "      <td>USD</td>\n",
       "      <td>600000</td>\n",
       "      <td>US</td>\n",
       "      <td>100</td>\n",
       "      <td>US</td>\n",
       "      <td>L</td>\n",
       "    </tr>\n",
       "    <tr>\n",
       "      <th>519</th>\n",
       "      <td>2022</td>\n",
       "      <td>SE</td>\n",
       "      <td>FT</td>\n",
       "      <td>Applied Data Scientist</td>\n",
       "      <td>380000</td>\n",
       "      <td>USD</td>\n",
       "      <td>380000</td>\n",
       "      <td>US</td>\n",
       "      <td>100</td>\n",
       "      <td>US</td>\n",
       "      <td>L</td>\n",
       "    </tr>\n",
       "    <tr>\n",
       "      <th>523</th>\n",
       "      <td>2022</td>\n",
       "      <td>SE</td>\n",
       "      <td>FT</td>\n",
       "      <td>Data Analytics Lead</td>\n",
       "      <td>405000</td>\n",
       "      <td>USD</td>\n",
       "      <td>405000</td>\n",
       "      <td>US</td>\n",
       "      <td>100</td>\n",
       "      <td>US</td>\n",
       "      <td>L</td>\n",
       "    </tr>\n",
       "  </tbody>\n",
       "</table>\n",
       "</div>"
      ],
      "text/plain": [
       "     work_year experience_level employment_type  \\\n",
       "33        2020               MI              FT   \n",
       "63        2020               SE              FT   \n",
       "97        2021               MI              FT   \n",
       "157       2021               MI              FT   \n",
       "225       2021               EX              CT   \n",
       "252       2021               EX              FT   \n",
       "519       2022               SE              FT   \n",
       "523       2022               SE              FT   \n",
       "\n",
       "                              job_title  salary salary_currency  \\\n",
       "33                   Research Scientist  450000             USD   \n",
       "63                       Data Scientist  412000             USD   \n",
       "97               Financial Data Analyst  450000             USD   \n",
       "157  Applied Machine Learning Scientist  423000             USD   \n",
       "225            Principal Data Scientist  416000             USD   \n",
       "252             Principal Data Engineer  600000             USD   \n",
       "519              Applied Data Scientist  380000             USD   \n",
       "523                 Data Analytics Lead  405000             USD   \n",
       "\n",
       "     salary_in_usd employee_residence  remote_ratio company_location  \\\n",
       "33          450000                 US             0               US   \n",
       "63          412000                 US           100               US   \n",
       "97          450000                 US           100               US   \n",
       "157         423000                 US            50               US   \n",
       "225         416000                 US           100               US   \n",
       "252         600000                 US           100               US   \n",
       "519         380000                 US           100               US   \n",
       "523         405000                 US           100               US   \n",
       "\n",
       "    company_size  \n",
       "33             M  \n",
       "63             L  \n",
       "97             L  \n",
       "157            L  \n",
       "225            S  \n",
       "252            L  \n",
       "519            L  \n",
       "523            L  "
      ]
     },
     "execution_count": 37,
     "metadata": {},
     "output_type": "execute_result"
    }
   ],
   "source": [
    "df[df[\"salary_in_usd\"] > 350000]"
   ]
  },
  {
   "cell_type": "code",
   "execution_count": 38,
   "id": "c281bce2",
   "metadata": {},
   "outputs": [],
   "source": [
    "# For the purposes of further analysis, we will remove outliers"
   ]
  },
  {
   "cell_type": "code",
   "execution_count": 39,
   "id": "d5cc7695",
   "metadata": {},
   "outputs": [
    {
     "name": "stdout",
     "output_type": "stream",
     "text": [
      "[87274.]\n"
     ]
    }
   ],
   "source": [
    "Q1 = np.quantile(df[\"salary_in_usd\"], [0.25])\n",
    "Q3 = np.quantile(df[\"salary_in_usd\"], [0.75])\n",
    "IQR = Q3-Q1\n",
    "print(IQR)"
   ]
  },
  {
   "cell_type": "code",
   "execution_count": 40,
   "id": "d3d008c5",
   "metadata": {},
   "outputs": [
    {
     "data": {
      "text/plain": [
       "87274.0"
      ]
     },
     "execution_count": 40,
     "metadata": {},
     "output_type": "execute_result"
    }
   ],
   "source": [
    "#quicker way\n",
    "iqr(df[\"salary_in_usd\"])"
   ]
  },
  {
   "cell_type": "code",
   "execution_count": 41,
   "id": "86f46487",
   "metadata": {},
   "outputs": [],
   "source": [
    "# \"higher fence\" is a border dividing values from outliers"
   ]
  },
  {
   "cell_type": "code",
   "execution_count": 42,
   "id": "b7c3668a",
   "metadata": {},
   "outputs": [
    {
     "name": "stdout",
     "output_type": "stream",
     "text": [
      "[280911.]\n"
     ]
    }
   ],
   "source": [
    "higher_fence = Q3 + 1.5*IQR\n",
    "print(higher_fence)"
   ]
  },
  {
   "cell_type": "code",
   "execution_count": 43,
   "id": "c0d3e48c",
   "metadata": {},
   "outputs": [],
   "source": [
    "#specifying outliers as datapoints behind fence value"
   ]
  },
  {
   "cell_type": "code",
   "execution_count": 44,
   "id": "74a6c6f9",
   "metadata": {},
   "outputs": [],
   "source": [
    "outliers = df[(df[\"salary_in_usd\"] > 280911)]"
   ]
  },
  {
   "cell_type": "code",
   "execution_count": 45,
   "id": "041cf4f1",
   "metadata": {},
   "outputs": [],
   "source": [
    "df2 = df[df[\"salary_in_usd\"] < 280911]"
   ]
  },
  {
   "cell_type": "code",
   "execution_count": 46,
   "id": "b622bd4f",
   "metadata": {},
   "outputs": [],
   "source": [
    "#comparing shapes to confirm removal"
   ]
  },
  {
   "cell_type": "code",
   "execution_count": 47,
   "id": "c8cd42c6",
   "metadata": {},
   "outputs": [
    {
     "data": {
      "text/plain": [
       "(607, 11)"
      ]
     },
     "execution_count": 47,
     "metadata": {},
     "output_type": "execute_result"
    }
   ],
   "source": [
    "df.shape"
   ]
  },
  {
   "cell_type": "code",
   "execution_count": 48,
   "id": "e41bd205",
   "metadata": {},
   "outputs": [
    {
     "data": {
      "text/plain": [
       "(597, 11)"
      ]
     },
     "execution_count": 48,
     "metadata": {},
     "output_type": "execute_result"
    }
   ],
   "source": [
    "df2.shape"
   ]
  },
  {
   "cell_type": "code",
   "execution_count": 49,
   "id": "5e6a233d",
   "metadata": {},
   "outputs": [
    {
     "data": {
      "text/plain": [
       "<matplotlib.lines.Line2D at 0x22f6727f310>"
      ]
     },
     "execution_count": 49,
     "metadata": {},
     "output_type": "execute_result"
    },
    {
     "data": {
      "image/png": "[encoded data removed]",
      "text/plain": [
       "<Figure size 1080x360 with 1 Axes>"
      ]
     },
     "metadata": {
      "needs_background": "light"
     },
     "output_type": "display_data"
    }
   ],
   "source": [
    "# Distplot with removed outliers and marked mean salary in USD\n",
    "plt.figure(figsize=(15,5))\n",
    "sns.histplot(df2[\"salary_in_usd\"], palette=\"light:m_r\", bins=100)\n",
    "plt.axvline(x=df2[\"salary_in_usd\"].mean(), color=\"red\")"
   ]
  },
  {
   "cell_type": "code",
   "execution_count": 50,
   "id": "1f39e45b",
   "metadata": {},
   "outputs": [
    {
     "data": {
      "text/plain": [
       "107168.85594639866"
      ]
     },
     "execution_count": 50,
     "metadata": {},
     "output_type": "execute_result"
    }
   ],
   "source": [
    "df2[\"salary_in_usd\"].mean()"
   ]
  },
  {
   "cell_type": "code",
   "execution_count": 51,
   "id": "9b4f79e1",
   "metadata": {},
   "outputs": [
    {
     "data": {
      "text/plain": [
       "<AxesSubplot:xlabel='salary_in_usd', ylabel='Count'>"
      ]
     },
     "execution_count": 51,
     "metadata": {},
     "output_type": "execute_result"
    },
    {
     "data": {
      "image/png": "[encoded data removed]",
      "text/plain": [
       "<Figure size 1080x360 with 1 Axes>"
      ]
     },
     "metadata": {
      "needs_background": "light"
     },
     "output_type": "display_data"
    }
   ],
   "source": [
    "# Let's use histplot to see how salaries changed through these years\n",
    "plt.figure(figsize=(15,5))\n",
    "sns.histplot(x=df2[\"salary_in_usd\"], hue=df2[\"work_year\"], label=\"inline label\")"
   ]
  },
  {
   "cell_type": "code",
   "execution_count": 52,
   "id": "86467f71",
   "metadata": {},
   "outputs": [],
   "source": [
    "# Let's move to a bit more complicated plots - bar plot seen below shows us salary in USD through three tested years,\n",
    "# Added hue to visualise how salaries depend on remote work (0 - statnionary, 50 - half remote, 100 - fully remote)"
   ]
  },
  {
   "cell_type": "code",
   "execution_count": 53,
   "id": "67084d99",
   "metadata": {},
   "outputs": [
    {
     "data": {
      "image/png": "[encoded data removed]",
      "text/plain": [
       "<Figure size 936x360 with 2 Axes>"
      ]
     },
     "metadata": {
      "needs_background": "light"
     },
     "output_type": "display_data"
    }
   ],
   "source": [
    "plt.figure(figsize=(13,5))\n",
    "plt.subplot(1,2,1)\n",
    "sns.barplot(x=df2[\"work_year\"], y=df2[\"salary_in_usd\"], hue=df2[\"remote_ratio\"]).set(title=\"Salary in USD through years depending on remote work\")\n",
    "plt.legend(loc='best', ncol=1)\n",
    "plt.subplot(1,2,2)\n",
    "df2[\"remote_ratio\"].value_counts().plot(kind=\"bar\", title=\"Number of respondents depending on remote ratio\")\n",
    "plt.legend(loc='best', ncol=1)\n",
    "plt.tight_layout()"
   ]
  },
  {
   "cell_type": "code",
   "execution_count": 54,
   "id": "a2c0f14e",
   "metadata": {},
   "outputs": [],
   "source": [
    "# Now let's see how salaries changed through years depending on experience level\n",
    "# Below shown on two different graphs where we could easily compare between years and seniority"
   ]
  },
  {
   "cell_type": "code",
   "execution_count": 55,
   "id": "ad39bc07",
   "metadata": {},
   "outputs": [
    {
     "data": {
      "text/plain": [
       "<AxesSubplot:xlabel='work_year', ylabel='salary_in_usd'>"
      ]
     },
     "execution_count": 55,
     "metadata": {},
     "output_type": "execute_result"
    },
    {
     "data": {
      "image/png": "[encoded data removed]",
      "text/plain": [
       "<Figure size 1224x432 with 2 Axes>"
      ]
     },
     "metadata": {
      "needs_background": "light"
     },
     "output_type": "display_data"
    }
   ],
   "source": [
    "plt.figure(figsize=(17,6))\n",
    "plt.subplot(1,2,1)\n",
    "sns.barplot(x=df2[\"experience_level\"], \n",
    "            y=df2[\"salary_in_usd\"], hue=df2[\"work_year\"], order=[\"EN\", \"MI\", \"SE\", \"EX\"])\n",
    "plt.subplot(1,2,2)\n",
    "sns.barplot(x=df2[\"work_year\"], y=df2[\"salary_in_usd\"], hue=df2[\"experience_level\"], hue_order=[\"EN\", \"MI\", \"SE\", \"EX\"])"
   ]
  },
  {
   "cell_type": "code",
   "execution_count": 56,
   "id": "91684bf8",
   "metadata": {},
   "outputs": [],
   "source": [
    "# Below graphs divided for each seniority"
   ]
  },
  {
   "cell_type": "code",
   "execution_count": 57,
   "id": "9ec1a140",
   "metadata": {},
   "outputs": [],
   "source": [
    "entry = df2[df2[\"experience_level\"] == \"EN\"]\n",
    "mid = df2[df2[\"experience_level\"] == \"MI\"]\n",
    "senior = df2[df2[\"experience_level\"] == \"SE\"]\n",
    "executive = df2[df2[\"experience_level\"] == \"EX\"]"
   ]
  },
  {
   "cell_type": "code",
   "execution_count": 58,
   "id": "3ea3a111",
   "metadata": {},
   "outputs": [
    {
     "data": {
      "image/png": "[encoded data removed]",
      "text/plain": [
       "<Figure size 1080x360 with 4 Axes>"
      ]
     },
     "metadata": {
      "needs_background": "light"
     },
     "output_type": "display_data"
    }
   ],
   "source": [
    "plt.figure(figsize=(15,5))\n",
    "plt.subplot(1,4,1)\n",
    "sns.barplot(x=entry[\"work_year\"], y=entry[\"salary_in_usd\"]).set(title=\"Entry level job salaries\")\n",
    "plt.subplot(1,4,2)\n",
    "sns.barplot(x=mid[\"work_year\"], y=mid[\"salary_in_usd\"]).set(title=\"Mid level job salaries\")\n",
    "plt.subplot(1,4,3)\n",
    "sns.barplot(x=senior[\"work_year\"], y=senior[\"salary_in_usd\"]).set(title=\"Senior level job salaries\")\n",
    "plt.subplot(1,4,4)\n",
    "sns.barplot(x=executive[\"work_year\"], y=executive[\"salary_in_usd\"]).set(title=\"Executive level job salaries\")\n",
    "plt.tight_layout()"
   ]
  },
  {
   "cell_type": "code",
   "execution_count": 59,
   "id": "064ae885",
   "metadata": {},
   "outputs": [],
   "source": [
    "# Belowe we can see boxplots showing us range of salaries, divided by seniority"
   ]
  },
  {
   "cell_type": "code",
   "execution_count": 60,
   "id": "7f56a4b1",
   "metadata": {},
   "outputs": [
    {
     "data": {
      "image/png": "[encoded data removed]",
      "text/plain": [
       "<Figure size 1080x360 with 4 Axes>"
      ]
     },
     "metadata": {
      "needs_background": "light"
     },
     "output_type": "display_data"
    }
   ],
   "source": [
    "plt.figure(figsize=(15,5))\n",
    "plt.subplot(1,4,1)\n",
    "sns.boxplot(x=entry[\"work_year\"], y=entry[\"salary_in_usd\"]).set(title=\"Entry level job salaries\")\n",
    "plt.subplot(1,4,2)\n",
    "sns.boxplot(x=mid[\"work_year\"], y=mid[\"salary_in_usd\"]).set(title=\"Mid level job salaries\")\n",
    "plt.subplot(1,4,3)\n",
    "sns.boxplot(x=senior[\"work_year\"], y=senior[\"salary_in_usd\"]).set(title=\"Senior level job salaries\")\n",
    "plt.subplot(1,4,4)\n",
    "sns.boxplot(x=executive[\"work_year\"], y=executive[\"salary_in_usd\"]).set(title=\"Executive level job salaries\")\n",
    "plt.tight_layout()"
   ]
  },
  {
   "cell_type": "code",
   "execution_count": null,
   "id": "6889d2f9",
   "metadata": {},
   "outputs": [],
   "source": [
    "# Probability\n",
    "# Let's assume our friend Anna asks what is the chance, that if she joined data science field, she would earn\n",
    "# 50000 USD or less."
   ]
  },
  {
   "cell_type": "code",
   "execution_count": 62,
   "id": "f735c324",
   "metadata": {},
   "outputs": [],
   "source": [
    "import scipy"
   ]
  },
  {
   "cell_type": "code",
   "execution_count": 63,
   "id": "587b7d98",
   "metadata": {},
   "outputs": [],
   "source": [
    "from scipy import stats\n",
    "from scipy.stats import norm"
   ]
  },
  {
   "cell_type": "code",
   "execution_count": 64,
   "id": "7c0517c0",
   "metadata": {},
   "outputs": [],
   "source": [
    "mean = df2['salary_in_usd'].mean()"
   ]
  },
  {
   "cell_type": "code",
   "execution_count": 65,
   "id": "ec9a60b9",
   "metadata": {},
   "outputs": [],
   "source": [
    "std = df2['salary_in_usd'].std()"
   ]
  },
  {
   "cell_type": "code",
   "execution_count": 79,
   "id": "43085625",
   "metadata": {},
   "outputs": [],
   "source": [
    "Anna = 50000"
   ]
  },
  {
   "cell_type": "code",
   "execution_count": 81,
   "id": "ecfe0ad5",
   "metadata": {},
   "outputs": [
    {
     "data": {
      "text/plain": [
       "0.16445323394613648"
      ]
     },
     "execution_count": 81,
     "metadata": {},
     "output_type": "execute_result"
    }
   ],
   "source": [
    "norm.cdf(Anna, mean, std)"
   ]
  },
  {
   "cell_type": "code",
   "execution_count": null,
   "id": "0233645b",
   "metadata": {},
   "outputs": [],
   "source": [
    "# The chance of Anna earning 50 000 USD or less is around 16%"
   ]
  },
  {
   "cell_type": "code",
   "execution_count": 73,
   "id": "40e41803",
   "metadata": {},
   "outputs": [],
   "source": [
    "# Correlations\n",
    "# Let's check the correlations between numerical values available"
   ]
  },
  {
   "cell_type": "code",
   "execution_count": 74,
   "id": "9f0827d4",
   "metadata": {},
   "outputs": [
    {
     "data": {
      "text/plain": [
       "0.13402618140780587"
      ]
     },
     "execution_count": 74,
     "metadata": {},
     "output_type": "execute_result"
    }
   ],
   "source": [
    "df2[\"salary_in_usd\"].corr(df2[\"remote_ratio\"])"
   ]
  },
  {
   "cell_type": "code",
   "execution_count": 75,
   "id": "fdb4ae85",
   "metadata": {},
   "outputs": [
    {
     "data": {
      "text/plain": [
       "0.2668832179172304"
      ]
     },
     "execution_count": 75,
     "metadata": {},
     "output_type": "execute_result"
    }
   ],
   "source": [
    "df2[\"salary_in_usd\"].corr(df2[\"work_year\"])"
   ]
  },
  {
   "cell_type": "code",
   "execution_count": null,
   "id": "2f7560a1",
   "metadata": {},
   "outputs": [],
   "source": [
    "# As we can see above, there is a small correlation between salary and work year."
   ]
  },
  {
   "cell_type": "code",
   "execution_count": 76,
   "id": "d311df65",
   "metadata": {},
   "outputs": [],
   "source": [
    "# SUMMARY"
   ]
  },
  {
   "cell_type": "code",
   "execution_count": 77,
   "id": "8bc253f8",
   "metadata": {},
   "outputs": [],
   "source": [
    "# As we could see, most of respondents are:\n",
    "# - coming from US (over 60%)\n",
    "# - 3 most common job titles are - \"Data scientist\", \"Data Engineer\", \"Data Analyst\"\n",
    "# - Seniority comes as follows : senior (~46%), mid (~35%), entry (~14%), executive (~4%)\n",
    "# - Most respondents are employed full-time\n",
    "# - Company size that respondents work in - medium (~53%), large (~32%), small (~13%)\n",
    "# - Mean salary for all of respondents is 107k$ per year\n",
    "# - Remote employees are the biggest part of respondents and are earning more than stationary/mixed respondents"
   ]
  },
  {
   "cell_type": "code",
   "execution_count": null,
   "id": "25b80cfb",
   "metadata": {},
   "outputs": [],
   "source": []
  }
 ],
 "metadata": {
  "kernelspec": {
   "display_name": "Python 3 (ipykernel)",
   "language": "python",
   "name": "python3"
  },
  "language_info": {
   "codemirror_mode": {
    "name": "ipython",
    "version": 3
   },
   "file_extension": ".py",
   "mimetype": "text/x-python",
   "name": "python",
   "nbconvert_exporter": "python",
   "pygments_lexer": "ipython3",
   "version": "3.9.12"
  }
 },
 "nbformat": 4,
 "nbformat_minor": 5
}
